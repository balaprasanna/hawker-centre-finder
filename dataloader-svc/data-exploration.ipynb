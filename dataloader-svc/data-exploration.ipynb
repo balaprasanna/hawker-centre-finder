{
 "cells": [
  {
   "cell_type": "code",
   "execution_count": 1,
   "id": "08615e1c",
   "metadata": {},
   "outputs": [],
   "source": [
    "import pandas as pd\n",
    "import geopandas as gpd\n",
    "from bs4 import BeautifulSoup"
   ]
  },
  {
   "cell_type": "code",
   "execution_count": 2,
   "id": "343a7c86",
   "metadata": {},
   "outputs": [],
   "source": [
    "fname = \"/home/prasanna/Downloads/hawker-centres/hawker-centres-geojson.geojson\"\n",
    "gdf = gpd.read_file(fname)\n",
    "\n",
    "def extract_lat_long_from_point(p):\n",
    "    # p.y - lat, p.x - long\n",
    "    return pd.Series({\"lat\": p[\"geometry\"].y, \"long\": p[\"geometry\"].x})\n",
    "\n",
    "gdf.loc[:, ['lat','long']] = gdf.apply(extract_lat_long_from_point, axis=1)"
   ]
  },
  {
   "cell_type": "markdown",
   "id": "758ac0cd",
   "metadata": {},
   "source": [
    "### Take a look at the content html\n",
    "- parse with beautiful soup\n",
    "- turn html table into dict\n",
    "---"
   ]
  },
  {
   "cell_type": "code",
   "execution_count": 3,
   "id": "769eb9a8",
   "metadata": {},
   "outputs": [
    {
     "data": {
      "text/plain": [
       "'<center><table><tr><th colspan=\\'2\\' align=\\'center\\'><em>Attributes</em></th></tr><tr bgcolor=\"#E3E3F3\"> <th>ADDRESSBLOCKHOUSENUMBER</th> <td>85</td> </tr><tr bgcolor=\"\"> <th>LATITUDE</th> <td></td> </tr><tr bgcolor=\"#E3E3F3\"> <th>EST_ORIGINAL_COMPLETION_DATE</th> <td>30/6/1977</td> </tr><tr bgcolor=\"\"> <th>STATUS</th> <td>Existing</td> </tr><tr bgcolor=\"#E3E3F3\"> <th>CLEANINGSTARTDATE</th> <td></td> </tr><tr bgcolor=\"\"> <th>ADDRESSUNITNUMBER</th> <td></td> </tr><tr bgcolor=\"#E3E3F3\"> <th>ADDRESSFLOORNUMBER</th> <td></td> </tr><tr bgcolor=\"\"> <th>NO_OF_FOOD_STALLS</th> <td></td> </tr><tr bgcolor=\"#E3E3F3\"> <th>HYPERLINK</th> <td></td> </tr><tr bgcolor=\"\"> <th>REGION</th> <td></td> </tr><tr bgcolor=\"#E3E3F3\"> <th>APPROXIMATE_GFA</th> <td></td> </tr><tr bgcolor=\"\"> <th>LONGITUDE</th> <td></td> </tr><tr bgcolor=\"#E3E3F3\"> <th>INFO_ON_CO_LOCATORS</th> <td></td> </tr><tr bgcolor=\"\"> <th>NO_OF_MARKET_STALLS</th> <td></td> </tr><tr bgcolor=\"#E3E3F3\"> <th>AWARDED_DATE</th> <td></td> </tr><tr bgcolor=\"\"> <th>LANDYADDRESSPOINT</th> <td>34910.13</td> </tr><tr bgcolor=\"#E3E3F3\"> <th>CLEANINGENDDATE</th> <td></td> </tr><tr bgcolor=\"\"> <th>PHOTOURL</th> <td>http://www.nea.gov.sg/images/default-source/Hawker-Centres-Division/resize_1267853253145.jpg</td> </tr><tr bgcolor=\"#E3E3F3\"> <th>DESCRIPTION</th> <td>HUP Standard Upgrading</td> </tr><tr bgcolor=\"\"> <th>NAME</th> <td>Bedok North Street 4 Blk 85 (85 Fengshan Centre)</td> </tr><tr bgcolor=\"#E3E3F3\"> <th>ADDRESSTYPE</th> <td>I</td> </tr><tr bgcolor=\"\"> <th>RNR_STATUS</th> <td></td> </tr><tr bgcolor=\"#E3E3F3\"> <th>ADDRESSBUILDINGNAME</th> <td></td> </tr><tr bgcolor=\"\"> <th>HUP_COMPLETION_DATE</th> <td>20/12/2012</td> </tr><tr bgcolor=\"#E3E3F3\"> <th>LANDXADDRESSPOINT</th> <td>39731.49</td> </tr><tr bgcolor=\"\"> <th>ADDRESSSTREETNAME</th> <td>Bedok North Street 4</td> </tr><tr bgcolor=\"#E3E3F3\"> <th>ADDRESSPOSTALCODE</th> <td>460085</td> </tr><tr bgcolor=\"\"> <th>DESCRIPTION_MYENV</th> <td></td> </tr><tr bgcolor=\"#E3E3F3\"> <th>IMPLEMENTATION_DATE</th> <td></td> </tr><tr bgcolor=\"\"> <th>ADDRESS_MYENV</th> <td>Blk 85, Bedok North Street 4, Singapore 460085</td> </tr><tr bgcolor=\"#E3E3F3\"> <th>INC_CRC</th> <td>CFC780A1B5DC7721</td> </tr><tr bgcolor=\"\"> <th>FMEL_UPD_D</th> <td>20210330151704</td> </tr></table></center>'"
      ]
     },
     "execution_count": 3,
     "metadata": {},
     "output_type": "execute_result"
    }
   ],
   "source": [
    "content = gdf.head(1)['Description'].iloc[0]\n",
    "content"
   ]
  },
  {
   "cell_type": "code",
   "execution_count": 4,
   "id": "daf3a528",
   "metadata": {},
   "outputs": [],
   "source": [
    "with open(\"/tmp/out.html\", \"w\") as f:\n",
    "    f.write(str(BeautifulSoup(content)))\n",
    "    f.write(\"\\n\")"
   ]
  },
  {
   "cell_type": "code",
   "execution_count": 5,
   "id": "a2da4d0e",
   "metadata": {},
   "outputs": [
    {
     "data": {
      "text/html": [
       "<center><table><tr><th colspan='2' align='center'><em>Attributes</em></th></tr><tr bgcolor=\"#E3E3F3\"> <th>ADDRESSBLOCKHOUSENUMBER</th> <td>85</td> </tr><tr bgcolor=\"\"> <th>LATITUDE</th> <td></td> </tr><tr bgcolor=\"#E3E3F3\"> <th>EST_ORIGINAL_COMPLETION_DATE</th> <td>30/6/1977</td> </tr><tr bgcolor=\"\"> <th>STATUS</th> <td>Existing</td> </tr><tr bgcolor=\"#E3E3F3\"> <th>CLEANINGSTARTDATE</th> <td></td> </tr><tr bgcolor=\"\"> <th>ADDRESSUNITNUMBER</th> <td></td> </tr><tr bgcolor=\"#E3E3F3\"> <th>ADDRESSFLOORNUMBER</th> <td></td> </tr><tr bgcolor=\"\"> <th>NO_OF_FOOD_STALLS</th> <td></td> </tr><tr bgcolor=\"#E3E3F3\"> <th>HYPERLINK</th> <td></td> </tr><tr bgcolor=\"\"> <th>REGION</th> <td></td> </tr><tr bgcolor=\"#E3E3F3\"> <th>APPROXIMATE_GFA</th> <td></td> </tr><tr bgcolor=\"\"> <th>LONGITUDE</th> <td></td> </tr><tr bgcolor=\"#E3E3F3\"> <th>INFO_ON_CO_LOCATORS</th> <td></td> </tr><tr bgcolor=\"\"> <th>NO_OF_MARKET_STALLS</th> <td></td> </tr><tr bgcolor=\"#E3E3F3\"> <th>AWARDED_DATE</th> <td></td> </tr><tr bgcolor=\"\"> <th>LANDYADDRESSPOINT</th> <td>34910.13</td> </tr><tr bgcolor=\"#E3E3F3\"> <th>CLEANINGENDDATE</th> <td></td> </tr><tr bgcolor=\"\"> <th>PHOTOURL</th> <td>http://www.nea.gov.sg/images/default-source/Hawker-Centres-Division/resize_1267853253145.jpg</td> </tr><tr bgcolor=\"#E3E3F3\"> <th>DESCRIPTION</th> <td>HUP Standard Upgrading</td> </tr><tr bgcolor=\"\"> <th>NAME</th> <td>Bedok North Street 4 Blk 85 (85 Fengshan Centre)</td> </tr><tr bgcolor=\"#E3E3F3\"> <th>ADDRESSTYPE</th> <td>I</td> </tr><tr bgcolor=\"\"> <th>RNR_STATUS</th> <td></td> </tr><tr bgcolor=\"#E3E3F3\"> <th>ADDRESSBUILDINGNAME</th> <td></td> </tr><tr bgcolor=\"\"> <th>HUP_COMPLETION_DATE</th> <td>20/12/2012</td> </tr><tr bgcolor=\"#E3E3F3\"> <th>LANDXADDRESSPOINT</th> <td>39731.49</td> </tr><tr bgcolor=\"\"> <th>ADDRESSSTREETNAME</th> <td>Bedok North Street 4</td> </tr><tr bgcolor=\"#E3E3F3\"> <th>ADDRESSPOSTALCODE</th> <td>460085</td> </tr><tr bgcolor=\"\"> <th>DESCRIPTION_MYENV</th> <td></td> </tr><tr bgcolor=\"#E3E3F3\"> <th>IMPLEMENTATION_DATE</th> <td></td> </tr><tr bgcolor=\"\"> <th>ADDRESS_MYENV</th> <td>Blk 85, Bedok North Street 4, Singapore 460085</td> </tr><tr bgcolor=\"#E3E3F3\"> <th>INC_CRC</th> <td>CFC780A1B5DC7721</td> </tr><tr bgcolor=\"\"> <th>FMEL_UPD_D</th> <td>20210330151704</td> </tr></table></center>"
      ],
      "text/plain": [
       "<IPython.core.display.HTML object>"
      ]
     },
     "metadata": {},
     "output_type": "display_data"
    }
   ],
   "source": [
    "from IPython.core.display import HTML\n",
    "display(HTML(content))"
   ]
  },
  {
   "cell_type": "markdown",
   "id": "1acc0790",
   "metadata": {},
   "source": [
    "### Parse HTML content with bs4\n",
    "---"
   ]
  },
  {
   "cell_type": "code",
   "execution_count": 30,
   "id": "62d76ce7",
   "metadata": {},
   "outputs": [],
   "source": [
    "def html_table_to_dict(content):\n",
    "    output_dct = {}\n",
    "    soup = BeautifulSoup(content)\n",
    "    for tr in soup.find_all(\"tr\"):\n",
    "        key = tr.find(\"th\").text\n",
    "        val = tr.find(\"td\")\n",
    "        safe_val = val.text if val else val\n",
    "        output_dct[key] = safe_val\n",
    "    return output_dct"
   ]
  },
  {
   "cell_type": "code",
   "execution_count": 37,
   "id": "04fe2cde",
   "metadata": {},
   "outputs": [],
   "source": [
    "def extract_cols(cont_dct, keys):\n",
    "    return pd.Series({key:cont_dct.get(key) for key in keys})"
   ]
  },
  {
   "cell_type": "code",
   "execution_count": 36,
   "id": "c3d2ac9e",
   "metadata": {},
   "outputs": [
    {
     "data": {
      "text/plain": [
       "{'Attributes': None,\n",
       " 'ADDRESSBLOCKHOUSENUMBER': '85',\n",
       " 'LATITUDE': '',\n",
       " 'EST_ORIGINAL_COMPLETION_DATE': '4/4/1972',\n",
       " 'STATUS': 'Existing',\n",
       " 'CLEANINGSTARTDATE': '',\n",
       " 'ADDRESSUNITNUMBER': '',\n",
       " 'ADDRESSFLOORNUMBER': '',\n",
       " 'NO_OF_FOOD_STALLS': '',\n",
       " 'HYPERLINK': '',\n",
       " 'REGION': '',\n",
       " 'APPROXIMATE_GFA': '',\n",
       " 'LONGITUDE': '',\n",
       " 'INFO_ON_CO_LOCATORS': '',\n",
       " 'NO_OF_MARKET_STALLS': '',\n",
       " 'AWARDED_DATE': '',\n",
       " 'LANDYADDRESSPOINT': '29972.02',\n",
       " 'CLEANINGENDDATE': '',\n",
       " 'PHOTOURL': 'http://www.nea.gov.sg/images/default-source/Hawker-Centres-Division/resize_1262153717849.jpg',\n",
       " 'DESCRIPTION': 'HUP Reconfiguration',\n",
       " 'NAME': 'Redhill Lane Blk 85 (Redhill Food Centre)',\n",
       " 'ADDRESSTYPE': 'I',\n",
       " 'RNR_STATUS': '',\n",
       " 'ADDRESSBUILDINGNAME': '',\n",
       " 'HUP_COMPLETION_DATE': '17/6/2005',\n",
       " 'LANDXADDRESSPOINT': '26332.89',\n",
       " 'ADDRESSSTREETNAME': 'Redhill Lane',\n",
       " 'ADDRESSPOSTALCODE': '150085',\n",
       " 'DESCRIPTION_MYENV': '',\n",
       " 'IMPLEMENTATION_DATE': '',\n",
       " 'ADDRESS_MYENV': 'Blk 85, Redhill Lane, Singapore 150085',\n",
       " 'INC_CRC': '1D515CA502CE0A60',\n",
       " 'FMEL_UPD_D': '20210330151704'}"
      ]
     },
     "execution_count": 36,
     "metadata": {},
     "output_type": "execute_result"
    }
   ],
   "source": [
    "html_table_to_dict(gdf['Description'].iloc[1])"
   ]
  },
  {
   "cell_type": "code",
   "execution_count": 45,
   "id": "b605d8b3",
   "metadata": {},
   "outputs": [
    {
     "data": {
      "text/plain": [
       "NAME         Bedok North Street 4 Blk 85 (85 Fengshan Centre)\n",
       "PHOTOURL    http://www.nea.gov.sg/images/default-source/Ha...\n",
       "dtype: object"
      ]
     },
     "execution_count": 45,
     "metadata": {},
     "output_type": "execute_result"
    }
   ],
   "source": [
    "extract_cols(html_table_to_dict(content), [\"NAME\", \"PHOTOURL\"])"
   ]
  },
  {
   "cell_type": "code",
   "execution_count": 42,
   "id": "0cc713c8",
   "metadata": {},
   "outputs": [],
   "source": [
    "cols = ['NAME','PHOTOURL','ADDRESS_MYENV']\n",
    "gdf.loc[:, cols] = gdf.Description.apply(lambda x: extract_cols(cont_dct=html_table_to_dict(x), keys=cols))"
   ]
  },
  {
   "cell_type": "code",
   "execution_count": 43,
   "id": "7e35e74b",
   "metadata": {},
   "outputs": [
    {
     "data": {
      "text/html": [
       "<div>\n",
       "<style scoped>\n",
       "    .dataframe tbody tr th:only-of-type {\n",
       "        vertical-align: middle;\n",
       "    }\n",
       "\n",
       "    .dataframe tbody tr th {\n",
       "        vertical-align: top;\n",
       "    }\n",
       "\n",
       "    .dataframe thead th {\n",
       "        text-align: right;\n",
       "    }\n",
       "</style>\n",
       "<table border=\"1\" class=\"dataframe\">\n",
       "  <thead>\n",
       "    <tr style=\"text-align: right;\">\n",
       "      <th></th>\n",
       "      <th>Name</th>\n",
       "      <th>Description</th>\n",
       "      <th>geometry</th>\n",
       "      <th>lat</th>\n",
       "      <th>long</th>\n",
       "      <th>NAME</th>\n",
       "      <th>PHOTOURL</th>\n",
       "      <th>ADDRESS_MYENV</th>\n",
       "    </tr>\n",
       "  </thead>\n",
       "  <tbody>\n",
       "    <tr>\n",
       "      <th>0</th>\n",
       "      <td>kml_1</td>\n",
       "      <td>&lt;center&gt;&lt;table&gt;&lt;tr&gt;&lt;th colspan='2' align='cent...</td>\n",
       "      <td>POINT Z (103.93873 1.33199 0.00000)</td>\n",
       "      <td>1.331987</td>\n",
       "      <td>103.938733</td>\n",
       "      <td>Bedok North Street 4 Blk 85 (85 Fengshan Centre)</td>\n",
       "      <td>http://www.nea.gov.sg/images/default-source/Ha...</td>\n",
       "      <td>Blk 85, Bedok North Street 4, Singapore 460085</td>\n",
       "    </tr>\n",
       "    <tr>\n",
       "      <th>1</th>\n",
       "      <td>kml_2</td>\n",
       "      <td>&lt;center&gt;&lt;table&gt;&lt;tr&gt;&lt;th colspan='2' align='cent...</td>\n",
       "      <td>POINT Z (103.81834 1.28733 0.00000)</td>\n",
       "      <td>1.287331</td>\n",
       "      <td>103.818339</td>\n",
       "      <td>Redhill Lane Blk 85 (Redhill Food Centre)</td>\n",
       "      <td>http://www.nea.gov.sg/images/default-source/Ha...</td>\n",
       "      <td>Blk 85, Redhill Lane, Singapore 150085</td>\n",
       "    </tr>\n",
       "    <tr>\n",
       "      <th>2</th>\n",
       "      <td>kml_3</td>\n",
       "      <td>&lt;center&gt;&lt;table&gt;&lt;tr&gt;&lt;th colspan='2' align='cent...</td>\n",
       "      <td>POINT Z (103.82899 1.37238 0.00000)</td>\n",
       "      <td>1.372385</td>\n",
       "      <td>103.828994</td>\n",
       "      <td>Sembawang Hills Food Centre (Jalan Leban Food ...</td>\n",
       "      <td>http://www.nea.gov.sg/images/default-source/Ha...</td>\n",
       "      <td>590, Upper Thomson Road, Singapore 574419</td>\n",
       "    </tr>\n",
       "    <tr>\n",
       "      <th>3</th>\n",
       "      <td>kml_4</td>\n",
       "      <td>&lt;center&gt;&lt;table&gt;&lt;tr&gt;&lt;th colspan='2' align='cent...</td>\n",
       "      <td>POINT Z (103.86674 1.36316 0.00000)</td>\n",
       "      <td>1.363157</td>\n",
       "      <td>103.866737</td>\n",
       "      <td>Serangoon Garden Market</td>\n",
       "      <td>http://www.nea.gov.sg/images/default-source/Ha...</td>\n",
       "      <td>49A, Serangoon Garden Way, Singapore 555945</td>\n",
       "    </tr>\n",
       "    <tr>\n",
       "      <th>4</th>\n",
       "      <td>kml_5</td>\n",
       "      <td>&lt;center&gt;&lt;table&gt;&lt;tr&gt;&lt;th colspan='2' align='cent...</td>\n",
       "      <td>POINT Z (103.83703 1.35201 0.00000)</td>\n",
       "      <td>1.352007</td>\n",
       "      <td>103.837032</td>\n",
       "      <td>Shunfu Road Blk 320 (Shunfu Mart)</td>\n",
       "      <td>http://www.nea.gov.sg/images/default-source/Ha...</td>\n",
       "      <td>Blk 320, Shunfu Road, Singapore 570320</td>\n",
       "    </tr>\n",
       "    <tr>\n",
       "      <th>...</th>\n",
       "      <td>...</td>\n",
       "      <td>...</td>\n",
       "      <td>...</td>\n",
       "      <td>...</td>\n",
       "      <td>...</td>\n",
       "      <td>...</td>\n",
       "      <td>...</td>\n",
       "      <td>...</td>\n",
       "    </tr>\n",
       "    <tr>\n",
       "      <th>120</th>\n",
       "      <td>kml_121</td>\n",
       "      <td>&lt;center&gt;&lt;table&gt;&lt;tr&gt;&lt;th colspan='2' align='cent...</td>\n",
       "      <td>POINT Z (103.71845 1.34964 0.00000)</td>\n",
       "      <td>1.349642</td>\n",
       "      <td>103.718448</td>\n",
       "      <td>Jurong West Street 52 Blk 505</td>\n",
       "      <td>http://www.nea.gov.sg/images/default-source/Ha...</td>\n",
       "      <td>Blk 505, Jurong West Street 52, Singapore 640505</td>\n",
       "    </tr>\n",
       "    <tr>\n",
       "      <th>121</th>\n",
       "      <td>kml_122</td>\n",
       "      <td>&lt;center&gt;&lt;table&gt;&lt;tr&gt;&lt;th colspan='2' align='cent...</td>\n",
       "      <td>POINT Z (103.88413 1.30740 0.00000)</td>\n",
       "      <td>1.307396</td>\n",
       "      <td>103.884130</td>\n",
       "      <td>Kallang Estate Fresh Market and Food Centre</td>\n",
       "      <td>http://www.nea.gov.sg/images/default-source/Ha...</td>\n",
       "      <td>17, Old Airport Road, Singapore 397972</td>\n",
       "    </tr>\n",
       "    <tr>\n",
       "      <th>122</th>\n",
       "      <td>kml_123</td>\n",
       "      <td>&lt;center&gt;&lt;table&gt;&lt;tr&gt;&lt;th colspan='2' align='cent...</td>\n",
       "      <td>POINT Z (103.80070 1.43993 0.00000)</td>\n",
       "      <td>1.439933</td>\n",
       "      <td>103.800696</td>\n",
       "      <td>Kampung Admiralty Hawker Centre</td>\n",
       "      <td>http://www.nea.gov.sg/images/default-source/Ha...</td>\n",
       "      <td>Blk 676, Woodlands Drive 71, Singapore 730676</td>\n",
       "    </tr>\n",
       "    <tr>\n",
       "      <th>123</th>\n",
       "      <td>kml_124</td>\n",
       "      <td>&lt;center&gt;&lt;table&gt;&lt;tr&gt;&lt;th colspan='2' align='cent...</td>\n",
       "      <td>POINT Z (103.90634 1.30229 0.00000)</td>\n",
       "      <td>1.302285</td>\n",
       "      <td>103.906339</td>\n",
       "      <td>Marine Parade Central Blk 84 (84 Marine Parade...</td>\n",
       "      <td>http://www.nea.gov.sg/images/default-source/Ha...</td>\n",
       "      <td>Blk 84, Marine Parade Central, Singapore 440084</td>\n",
       "    </tr>\n",
       "    <tr>\n",
       "      <th>124</th>\n",
       "      <td>kml_125</td>\n",
       "      <td>&lt;center&gt;&lt;table&gt;&lt;tr&gt;&lt;th colspan='2' align='cent...</td>\n",
       "      <td>POINT Z (103.91576 1.30578 0.00000)</td>\n",
       "      <td>1.305775</td>\n",
       "      <td>103.915762</td>\n",
       "      <td>Marine Terrace Blk 50A (50A Marine Terrace)</td>\n",
       "      <td>http://www.nea.gov.sg/images/default-source/Ha...</td>\n",
       "      <td>Blk 50A, Marine Terrace, Singapore 441050</td>\n",
       "    </tr>\n",
       "  </tbody>\n",
       "</table>\n",
       "<p>125 rows × 8 columns</p>\n",
       "</div>"
      ],
      "text/plain": [
       "        Name                                        Description  \\\n",
       "0      kml_1  <center><table><tr><th colspan='2' align='cent...   \n",
       "1      kml_2  <center><table><tr><th colspan='2' align='cent...   \n",
       "2      kml_3  <center><table><tr><th colspan='2' align='cent...   \n",
       "3      kml_4  <center><table><tr><th colspan='2' align='cent...   \n",
       "4      kml_5  <center><table><tr><th colspan='2' align='cent...   \n",
       "..       ...                                                ...   \n",
       "120  kml_121  <center><table><tr><th colspan='2' align='cent...   \n",
       "121  kml_122  <center><table><tr><th colspan='2' align='cent...   \n",
       "122  kml_123  <center><table><tr><th colspan='2' align='cent...   \n",
       "123  kml_124  <center><table><tr><th colspan='2' align='cent...   \n",
       "124  kml_125  <center><table><tr><th colspan='2' align='cent...   \n",
       "\n",
       "                                geometry       lat        long  \\\n",
       "0    POINT Z (103.93873 1.33199 0.00000)  1.331987  103.938733   \n",
       "1    POINT Z (103.81834 1.28733 0.00000)  1.287331  103.818339   \n",
       "2    POINT Z (103.82899 1.37238 0.00000)  1.372385  103.828994   \n",
       "3    POINT Z (103.86674 1.36316 0.00000)  1.363157  103.866737   \n",
       "4    POINT Z (103.83703 1.35201 0.00000)  1.352007  103.837032   \n",
       "..                                   ...       ...         ...   \n",
       "120  POINT Z (103.71845 1.34964 0.00000)  1.349642  103.718448   \n",
       "121  POINT Z (103.88413 1.30740 0.00000)  1.307396  103.884130   \n",
       "122  POINT Z (103.80070 1.43993 0.00000)  1.439933  103.800696   \n",
       "123  POINT Z (103.90634 1.30229 0.00000)  1.302285  103.906339   \n",
       "124  POINT Z (103.91576 1.30578 0.00000)  1.305775  103.915762   \n",
       "\n",
       "                                                  NAME  \\\n",
       "0     Bedok North Street 4 Blk 85 (85 Fengshan Centre)   \n",
       "1            Redhill Lane Blk 85 (Redhill Food Centre)   \n",
       "2    Sembawang Hills Food Centre (Jalan Leban Food ...   \n",
       "3                              Serangoon Garden Market   \n",
       "4                    Shunfu Road Blk 320 (Shunfu Mart)   \n",
       "..                                                 ...   \n",
       "120                      Jurong West Street 52 Blk 505   \n",
       "121        Kallang Estate Fresh Market and Food Centre   \n",
       "122                    Kampung Admiralty Hawker Centre   \n",
       "123  Marine Parade Central Blk 84 (84 Marine Parade...   \n",
       "124        Marine Terrace Blk 50A (50A Marine Terrace)   \n",
       "\n",
       "                                              PHOTOURL  \\\n",
       "0    http://www.nea.gov.sg/images/default-source/Ha...   \n",
       "1    http://www.nea.gov.sg/images/default-source/Ha...   \n",
       "2    http://www.nea.gov.sg/images/default-source/Ha...   \n",
       "3    http://www.nea.gov.sg/images/default-source/Ha...   \n",
       "4    http://www.nea.gov.sg/images/default-source/Ha...   \n",
       "..                                                 ...   \n",
       "120  http://www.nea.gov.sg/images/default-source/Ha...   \n",
       "121  http://www.nea.gov.sg/images/default-source/Ha...   \n",
       "122  http://www.nea.gov.sg/images/default-source/Ha...   \n",
       "123  http://www.nea.gov.sg/images/default-source/Ha...   \n",
       "124  http://www.nea.gov.sg/images/default-source/Ha...   \n",
       "\n",
       "                                        ADDRESS_MYENV  \n",
       "0      Blk 85, Bedok North Street 4, Singapore 460085  \n",
       "1              Blk 85, Redhill Lane, Singapore 150085  \n",
       "2           590, Upper Thomson Road, Singapore 574419  \n",
       "3         49A, Serangoon Garden Way, Singapore 555945  \n",
       "4              Blk 320, Shunfu Road, Singapore 570320  \n",
       "..                                                ...  \n",
       "120  Blk 505, Jurong West Street 52, Singapore 640505  \n",
       "121            17, Old Airport Road, Singapore 397972  \n",
       "122     Blk 676, Woodlands Drive 71, Singapore 730676  \n",
       "123   Blk 84, Marine Parade Central, Singapore 440084  \n",
       "124         Blk 50A, Marine Terrace, Singapore 441050  \n",
       "\n",
       "[125 rows x 8 columns]"
      ]
     },
     "execution_count": 43,
     "metadata": {},
     "output_type": "execute_result"
    }
   ],
   "source": [
    "gdf"
   ]
  },
  {
   "cell_type": "code",
   "execution_count": 47,
   "id": "73789530",
   "metadata": {},
   "outputs": [],
   "source": [
    "gdf[['NAME','PHOTOURL','ADDRESS_MYENV','lat','long']].to_csv(\"/tmp/out.csv\", index=False)"
   ]
  },
  {
   "cell_type": "markdown",
   "id": "378781eb",
   "metadata": {},
   "source": [
    "### END\n",
    "---"
   ]
  }
 ],
 "metadata": {
  "kernelspec": {
   "display_name": "Python 3 (ipykernel)",
   "language": "python",
   "name": "python3"
  },
  "language_info": {
   "codemirror_mode": {
    "name": "ipython",
    "version": 3
   },
   "file_extension": ".py",
   "mimetype": "text/x-python",
   "name": "python",
   "nbconvert_exporter": "python",
   "pygments_lexer": "ipython3",
   "version": "3.10.4"
  }
 },
 "nbformat": 4,
 "nbformat_minor": 5
}
